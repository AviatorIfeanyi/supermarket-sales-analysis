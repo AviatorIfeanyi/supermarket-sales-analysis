{
 "cells": [
  {
   "cell_type": "code",
   "execution_count": 20,
   "id": "716fbf0d-f022-4d45-a82e-9e0649600921",
   "metadata": {},
   "outputs": [],
   "source": [
    "import sqldf\n",
    "import pandas as pd\n",
    "import matplotlib.pyplot as plt\n",
    "import seaborn as sns"
   ]
  },
  {
   "cell_type": "code",
   "execution_count": 29,
   "id": "7ba7df44-96d5-497e-9366-0c86d2ab2e57",
   "metadata": {},
   "outputs": [],
   "source": [
    "sales = pd.read_csv('./supermarket_sales.csv', index_col=0, parse_dates=['Date'])"
   ]
  },
  {
   "cell_type": "code",
   "execution_count": 30,
   "id": "b05f262c-8382-457b-9450-d5734579a5bf",
   "metadata": {},
   "outputs": [
    {
     "data": {
      "text/plain": [
       "Branch                      object\n",
       "City                        object\n",
       "Customer type               object\n",
       "Gender                      object\n",
       "Product Line                object\n",
       "Unit Price                 float64\n",
       "Quantity Sold                int64\n",
       "Sales Before Tax           float64\n",
       "Tax 5%                     float64\n",
       "Total Sales                float64\n",
       "Date                datetime64[ns]\n",
       "Time                        object\n",
       "Payment Method              object\n",
       "Rating                     float64\n",
       "Year                         int64\n",
       "Month Name                  object\n",
       "Day Name                    object\n",
       "dtype: object"
      ]
     },
     "execution_count": 30,
     "metadata": {},
     "output_type": "execute_result"
    }
   ],
   "source": [
    "sales.dtypes"
   ]
  },
  {
   "cell_type": "code",
   "execution_count": 46,
   "id": "fe813f09-114e-4775-a1a0-24490953aa98",
   "metadata": {},
   "outputs": [],
   "source": [
    "# definea function to run sql queries to avoid calling the sqldf function multiple times\n",
    "def run_query(query):\n",
    "    return sqldf.run(query)"
   ]
  },
  {
   "cell_type": "code",
   "execution_count": 31,
   "id": "a76526d2-5df4-4006-9f8e-ceedccd90307",
   "metadata": {},
   "outputs": [
    {
     "data": {
      "text/plain": [
       "<AxesSubplot:xlabel='Gender', ylabel='count'>"
      ]
     },
     "execution_count": 31,
     "metadata": {},
     "output_type": "execute_result"
    },
    {
     "data": {
      "image/png": "[encoded data removed]",
      "text/plain": [
       "<Figure size 432x288 with 1 Axes>"
      ]
     },
     "metadata": {
      "needs_background": "light"
     },
     "output_type": "display_data"
    }
   ],
   "source": [
    "# Total count of customersabs\n",
    "sns.countplot(x='Gender', data=sales)"
   ]
  },
  {
   "cell_type": "code",
   "execution_count": 40,
   "id": "1e7d2ed1-b01f-483f-815c-e59ed1354b9b",
   "metadata": {},
   "outputs": [],
   "source": [
    "query_gender_count ='''select Gender, count(Gender) as total from sales group by Gender'''"
   ]
  },
  {
   "cell_type": "code",
   "execution_count": 44,
   "id": "1a6aa6ab-b537-4047-8485-48662956e59f",
   "metadata": {},
   "outputs": [],
   "source": [
    "gender_count = run_query(query_gender_count)"
   ]
  },
  {
   "cell_type": "code",
   "execution_count": 45,
   "id": "04c0979d-418a-40d9-b9e2-338cd5699056",
   "metadata": {},
   "outputs": [
    {
     "data": {
      "text/html": [
       "<div>\n",
       "<style scoped>\n",
       "    .dataframe tbody tr th:only-of-type {\n",
       "        vertical-align: middle;\n",
       "    }\n",
       "\n",
       "    .dataframe tbody tr th {\n",
       "        vertical-align: top;\n",
       "    }\n",
       "\n",
       "    .dataframe thead th {\n",
       "        text-align: right;\n",
       "    }\n",
       "</style>\n",
       "<table border=\"1\" class=\"dataframe\">\n",
       "  <thead>\n",
       "    <tr style=\"text-align: right;\">\n",
       "      <th></th>\n",
       "      <th>Gender</th>\n",
       "      <th>total</th>\n",
       "    </tr>\n",
       "  </thead>\n",
       "  <tbody>\n",
       "    <tr>\n",
       "      <th>0</th>\n",
       "      <td>Female</td>\n",
       "      <td>501</td>\n",
       "    </tr>\n",
       "    <tr>\n",
       "      <th>1</th>\n",
       "      <td>Male</td>\n",
       "      <td>499</td>\n",
       "    </tr>\n",
       "  </tbody>\n",
       "</table>\n",
       "</div>"
      ],
      "text/plain": [
       "   Gender  total\n",
       "0  Female    501\n",
       "1    Male    499"
      ]
     },
     "execution_count": 45,
     "metadata": {},
     "output_type": "execute_result"
    }
   ],
   "source": [
    "gender_count"
   ]
  },
  {
   "cell_type": "code",
   "execution_count": 56,
   "id": "7ce9abad-0b9c-4152-a592-2da083d9b054",
   "metadata": {},
   "outputs": [],
   "source": [
    "query_payment_methods = ''' select distinct \"Payment Method\" from sales '''"
   ]
  },
  {
   "cell_type": "code",
   "execution_count": 57,
   "id": "d8fae68a-e445-44d4-aa2d-89053e079045",
   "metadata": {},
   "outputs": [],
   "source": [
    "payment_types = run_query(query_payment_methods)"
   ]
  },
  {
   "cell_type": "code",
   "execution_count": 58,
   "id": "2def1479-1a25-43da-9901-d90dd09865a3",
   "metadata": {},
   "outputs": [
    {
     "data": {
      "text/html": [
       "<div>\n",
       "<style scoped>\n",
       "    .dataframe tbody tr th:only-of-type {\n",
       "        vertical-align: middle;\n",
       "    }\n",
       "\n",
       "    .dataframe tbody tr th {\n",
       "        vertical-align: top;\n",
       "    }\n",
       "\n",
       "    .dataframe thead th {\n",
       "        text-align: right;\n",
       "    }\n",
       "</style>\n",
       "<table border=\"1\" class=\"dataframe\">\n",
       "  <thead>\n",
       "    <tr style=\"text-align: right;\">\n",
       "      <th></th>\n",
       "      <th>Payment Method</th>\n",
       "    </tr>\n",
       "  </thead>\n",
       "  <tbody>\n",
       "    <tr>\n",
       "      <th>0</th>\n",
       "      <td>Ewallet</td>\n",
       "    </tr>\n",
       "    <tr>\n",
       "      <th>1</th>\n",
       "      <td>Cash</td>\n",
       "    </tr>\n",
       "    <tr>\n",
       "      <th>2</th>\n",
       "      <td>Credit card</td>\n",
       "    </tr>\n",
       "  </tbody>\n",
       "</table>\n",
       "</div>"
      ],
      "text/plain": [
       "  Payment Method\n",
       "0        Ewallet\n",
       "1           Cash\n",
       "2    Credit card"
      ]
     },
     "execution_count": 58,
     "metadata": {},
     "output_type": "execute_result"
    }
   ],
   "source": [
    "payment_types"
   ]
  },
  {
   "cell_type": "code",
   "execution_count": 59,
   "id": "f970290c-2bab-4c0a-a7ef-579a69cff11a",
   "metadata": {},
   "outputs": [],
   "source": [
    "query_product_line = ''' select distinct \"Product Line\" from sales '''"
   ]
  },
  {
   "cell_type": "code",
   "execution_count": 61,
   "id": "0032cd14-99fd-4c05-b2f1-9cccb1719a71",
   "metadata": {},
   "outputs": [
    {
     "data": {
      "text/html": [
       "<div>\n",
       "<style scoped>\n",
       "    .dataframe tbody tr th:only-of-type {\n",
       "        vertical-align: middle;\n",
       "    }\n",
       "\n",
       "    .dataframe tbody tr th {\n",
       "        vertical-align: top;\n",
       "    }\n",
       "\n",
       "    .dataframe thead th {\n",
       "        text-align: right;\n",
       "    }\n",
       "</style>\n",
       "<table border=\"1\" class=\"dataframe\">\n",
       "  <thead>\n",
       "    <tr style=\"text-align: right;\">\n",
       "      <th></th>\n",
       "      <th>Product Line</th>\n",
       "    </tr>\n",
       "  </thead>\n",
       "  <tbody>\n",
       "    <tr>\n",
       "      <th>0</th>\n",
       "      <td>Health and beauty</td>\n",
       "    </tr>\n",
       "    <tr>\n",
       "      <th>1</th>\n",
       "      <td>Electronic accessories</td>\n",
       "    </tr>\n",
       "    <tr>\n",
       "      <th>2</th>\n",
       "      <td>Home and lifestyle</td>\n",
       "    </tr>\n",
       "    <tr>\n",
       "      <th>3</th>\n",
       "      <td>Sports and travel</td>\n",
       "    </tr>\n",
       "    <tr>\n",
       "      <th>4</th>\n",
       "      <td>Food and beverages</td>\n",
       "    </tr>\n",
       "    <tr>\n",
       "      <th>5</th>\n",
       "      <td>Fashion accessories</td>\n",
       "    </tr>\n",
       "  </tbody>\n",
       "</table>\n",
       "</div>"
      ],
      "text/plain": [
       "             Product Line\n",
       "0       Health and beauty\n",
       "1  Electronic accessories\n",
       "2      Home and lifestyle\n",
       "3       Sports and travel\n",
       "4      Food and beverages\n",
       "5     Fashion accessories"
      ]
     },
     "execution_count": 61,
     "metadata": {},
     "output_type": "execute_result"
    }
   ],
   "source": [
    "product_line = run_query(query_product_line)\n",
    "product_line"
   ]
  },
  {
   "cell_type": "code",
   "execution_count": 62,
   "id": "fa737bdf-c39f-400f-8d4c-4c67f32f5f05",
   "metadata": {},
   "outputs": [],
   "source": [
    "query_city_branches = ''' select distinct Branch, City  from sales '''"
   ]
  },
  {
   "cell_type": "code",
   "execution_count": 63,
   "id": "bfa6b30a-58bf-4df3-9f45-5eb99681ae29",
   "metadata": {},
   "outputs": [
    {
     "data": {
      "text/html": [
       "<div>\n",
       "<style scoped>\n",
       "    .dataframe tbody tr th:only-of-type {\n",
       "        vertical-align: middle;\n",
       "    }\n",
       "\n",
       "    .dataframe tbody tr th {\n",
       "        vertical-align: top;\n",
       "    }\n",
       "\n",
       "    .dataframe thead th {\n",
       "        text-align: right;\n",
       "    }\n",
       "</style>\n",
       "<table border=\"1\" class=\"dataframe\">\n",
       "  <thead>\n",
       "    <tr style=\"text-align: right;\">\n",
       "      <th></th>\n",
       "      <th>Branch</th>\n",
       "      <th>City</th>\n",
       "    </tr>\n",
       "  </thead>\n",
       "  <tbody>\n",
       "    <tr>\n",
       "      <th>0</th>\n",
       "      <td>A</td>\n",
       "      <td>Yangon</td>\n",
       "    </tr>\n",
       "    <tr>\n",
       "      <th>1</th>\n",
       "      <td>C</td>\n",
       "      <td>Naypyitaw</td>\n",
       "    </tr>\n",
       "    <tr>\n",
       "      <th>2</th>\n",
       "      <td>B</td>\n",
       "      <td>Mandalay</td>\n",
       "    </tr>\n",
       "  </tbody>\n",
       "</table>\n",
       "</div>"
      ],
      "text/plain": [
       "  Branch       City\n",
       "0      A     Yangon\n",
       "1      C  Naypyitaw\n",
       "2      B   Mandalay"
      ]
     },
     "execution_count": 63,
     "metadata": {},
     "output_type": "execute_result"
    }
   ],
   "source": [
    "city_branch = run_query(query_city_branches)\n",
    "city_branch"
   ]
  },
  {
   "cell_type": "code",
   "execution_count": null,
   "id": "d1d8e4bb-0936-4bfa-8747-cd649fea7c6e",
   "metadata": {},
   "outputs": [],
   "source": []
  }
 ],
 "metadata": {
  "kernelspec": {
   "display_name": "Python 3 (ipykernel)",
   "language": "python",
   "name": "python3"
  },
  "language_info": {
   "codemirror_mode": {
    "name": "ipython",
    "version": 3
   },
   "file_extension": ".py",
   "mimetype": "text/x-python",
   "name": "python",
   "nbconvert_exporter": "python",
   "pygments_lexer": "ipython3",
   "version": "3.9.9"
  }
 },
 "nbformat": 4,
 "nbformat_minor": 5
}
